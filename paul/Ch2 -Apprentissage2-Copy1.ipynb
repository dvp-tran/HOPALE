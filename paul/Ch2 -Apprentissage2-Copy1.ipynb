{
 "cells": [
  {
   "cell_type": "markdown",
   "metadata": {},
   "source": [
    "<h1> <a> Apprentissage </a> </h1>\n",
    "<h2> Pour le Challenge Axa </h2>\n",
    "<h3> Axa Graduate Program Février 2017 </h3>\n",
    "<i> Author : Paul Tran </i> <br>\n"
   ]
  },
  {
   "cell_type": "markdown",
   "metadata": {},
   "source": [
    "--------------"
   ]
  },
  {
   "cell_type": "markdown",
   "metadata": {},
   "source": [
    "# Sommaire\n",
    "1. [Préliminaires](#préliminaires)\n",
    "    1. [Introduction](#introduction)\n",
    "    2. [Imports](#imports)\n",
    "    3. [Chargement de la donnée](#load)\n",
    "2. [Data Management](#management)\n",
    "    1. [Train, Validation & Test](#split)\n",
    "    2. [Description de la donnée](#description)\n",
    "3. [Machine Learning](#ML)\n",
    "    1. [Méthode Linéaire](#linéaire)\n",
    "        1. [Régression Linéaire simple](#RF)\n",
    "        2. [Lasso](#ET)\n",
    "    2. [Méthodes ensemblistes](#ensemblistes)\n",
    "        1. [Random Forest](#RF)\n",
    "        2. [Extra Trees](#ET)\n",
    "        3. [XG Boost](#XGB)\n",
    "4. [Interprétation des modèles](#interprétation)\n",
    "5. [Soumission des résultats](#submit)"
   ]
  },
  {
   "cell_type": "markdown",
   "metadata": {},
   "source": [
    "------------"
   ]
  },
  {
   "cell_type": "markdown",
   "metadata": {},
   "source": [
    "# Préliminaires  <a name=\"préiliminaires\"></a>"
   ]
  },
  {
   "cell_type": "markdown",
   "metadata": {},
   "source": [
    "- ## Introduction :  <a name=\"introduction\"></a>"
   ]
  },
  {
   "cell_type": "markdown",
   "metadata": {},
   "source": [
    "Dans cette partie nous allons gérer l'approche naïve de l'apprentissage avec très peu de modifications sur la donnée. Nous tenterons par la suite d'effectuer un travail plus réfléchi sur la donnée dans l'optique d'obtenir un meilleur score."
   ]
  },
  {
   "cell_type": "markdown",
   "metadata": {},
   "source": [
    "- ## Précautions"
   ]
  },
  {
   "cell_type": "markdown",
   "metadata": {},
   "source": [
    "Ce notebook prend beaucoup de temps à être exécuté dans son intégralité du fait des apprentissages successifs qui sont lancés. Il est conseiller de ne pas l'exécuter et d'observer directement les résultats des cellules."
   ]
  },
  {
   "cell_type": "markdown",
   "metadata": {},
   "source": [
    "- ## Imports des librairies utiles <a name=\"imports\"></a>"
   ]
  },
  {
   "cell_type": "code",
   "execution_count": 1,
   "metadata": {
    "collapsed": true
   },
   "outputs": [],
   "source": [
    "import os\n",
    "import math\n",
    "import pandas as pd\n",
    "pd.set_option('display.max_columns', 300)\n",
    "import numpy as np\n",
    "\n",
    "\n",
    "#pour la partie data viz\n",
    "%matplotlib inline\n",
    "import matplotlib.pyplot as plt\n",
    "import seaborn as sns\n",
    "#import bokeh\n",
    "#from bokeh.io import output_notebook\n",
    "#output_notebook()\n",
    "\n",
    "from sklearn.ensemble import RandomForestRegressor\n",
    "from sklearn.linear_model import LinearRegression\n",
    "from sklearn import preprocessing\n",
    "from sklearn.model_selection import train_test_split\n",
    "from sklearn.ensemble import RandomForestRegressor\n",
    "from sklearn.linear_model import LinearRegression\n",
    "from sklearn import preprocessing\n",
    "from sklearn.metrics import r2_score"
   ]
  },
  {
   "cell_type": "markdown",
   "metadata": {},
   "source": [
    "- ## Chargement de la donnée  <a name=\"load\"></a>"
   ]
  },
  {
   "cell_type": "code",
   "execution_count": 2,
   "metadata": {
    "collapsed": true
   },
   "outputs": [],
   "source": [
    "df = pd.read_excel('../data/synthese.xlsx')\n",
    "aux = pd.read_excel('../data/extrait_2.xlsx')"
   ]
  },
  {
   "cell_type": "code",
   "execution_count": 3,
   "metadata": {
    "collapsed": true
   },
   "outputs": [],
   "source": [
    "#drop useless\n",
    "to_drop = [\"annee\",\"GME_ATIH\",\"chapitre\",\"GN\",\"RGME\",\"sortie\",u'Médecin',\"dep_totale\"]\n",
    "target = [\"nb_rhs\"]\n",
    "target_related = [ u'nb_rhs', u'nb_jours_total', u'nb_jours_WE']\n",
    "rename_mapper = {\"date_2\":\"date_entree\",\n",
    "                 \"jour\":\"jour_entree\",\n",
    "                 \"mois\":\"mois_entree\",\n",
    "                 \"annee\":\"annee_entree\"}\n",
    "df = df.drop(to_drop,axis=1)\n",
    "aux= aux.drop([\"date\"], axis = 1).rename(rename_mapper, axis=1)\n",
    "\n",
    "#cast date type such as date\n",
    "aux[\"date_entree\"]= pd.to_datetime(aux[\"date_entree\"])\n",
    "\n",
    "#left join on N_ordre\n",
    "data = pd.merge(df,aux,on=\"N_ordre\",how=\"left\")\n",
    "\n",
    "#fill na to 0 for the \n",
    "practiciens = [u'Animateur', u'Assistant de service social',\n",
    "                 u'Autre intervenant',                 u'Diététicien',\n",
    "              u'Éducateur spécialisé',           u'Éducateur sportif',\n",
    "                u'Enseignant général',                    u'Ergonome',\n",
    "                    u'Ergothérapeute',                   u'Infirmier',\n",
    "           u'Masseurkinésithérapeute',        u'Moniteur d’autoécole',\n",
    "                u'Moniteur éducateur',               u'Orthophoniste',\n",
    "                  u'Orthoprothésiste',                  u'Osteopathe',\n",
    "                       u'Psychologue',             u'Psychomotricien']\n",
    "\n",
    "for col in practiciens:\n",
    "    data[col] = data[col].fillna(0)\n"
   ]
  },
  {
   "cell_type": "code",
   "execution_count": 4,
   "metadata": {},
   "outputs": [
    {
     "data": {
      "text/html": [
       "<div>\n",
       "<style scoped>\n",
       "    .dataframe tbody tr th:only-of-type {\n",
       "        vertical-align: middle;\n",
       "    }\n",
       "\n",
       "    .dataframe tbody tr th {\n",
       "        vertical-align: top;\n",
       "    }\n",
       "\n",
       "    .dataframe thead th {\n",
       "        text-align: right;\n",
       "    }\n",
       "</style>\n",
       "<table border=\"1\" class=\"dataframe\">\n",
       "  <thead>\n",
       "    <tr style=\"text-align: right;\">\n",
       "      <th></th>\n",
       "      <th>N_ordre</th>\n",
       "      <th>type hosp</th>\n",
       "      <th>nb_rhs</th>\n",
       "      <th>nb_jours_total</th>\n",
       "      <th>nb_jours_semaine</th>\n",
       "      <th>nb_jours_WE</th>\n",
       "      <th>T_chapitre</th>\n",
       "      <th>T_GN</th>\n",
       "      <th>dep_sup</th>\n",
       "      <th>dep_physique</th>\n",
       "      <th>annee_naissance</th>\n",
       "      <th>sexe</th>\n",
       "      <th>entree</th>\n",
       "      <th>Animateur</th>\n",
       "      <th>Assistant de service social</th>\n",
       "      <th>Autre intervenant</th>\n",
       "      <th>Diététicien</th>\n",
       "      <th>Éducateur spécialisé</th>\n",
       "      <th>Éducateur sportif</th>\n",
       "      <th>Enseignant général</th>\n",
       "      <th>Ergonome</th>\n",
       "      <th>Ergothérapeute</th>\n",
       "      <th>Infirmier</th>\n",
       "      <th>Masseurkinésithérapeute</th>\n",
       "      <th>Moniteur d’autoécole</th>\n",
       "      <th>Moniteur éducateur</th>\n",
       "      <th>Orthophoniste</th>\n",
       "      <th>Orthoprothésiste</th>\n",
       "      <th>Osteopathe</th>\n",
       "      <th>Psychologue</th>\n",
       "      <th>Psychomotricien</th>\n",
       "      <th>CP</th>\n",
       "      <th>jour_entree</th>\n",
       "      <th>mois_entree</th>\n",
       "      <th>annee_entree</th>\n",
       "      <th>date_entree</th>\n",
       "    </tr>\n",
       "  </thead>\n",
       "  <tbody>\n",
       "    <tr>\n",
       "      <th>0</th>\n",
       "      <td>498</td>\n",
       "      <td>1</td>\n",
       "      <td>12</td>\n",
       "      <td>79</td>\n",
       "      <td>57</td>\n",
       "      <td>22</td>\n",
       "      <td>CH08</td>\n",
       "      <td>GN0863</td>\n",
       "      <td>4</td>\n",
       "      <td>12</td>\n",
       "      <td>1952</td>\n",
       "      <td>1</td>\n",
       "      <td>7</td>\n",
       "      <td>0.0</td>\n",
       "      <td>0.0</td>\n",
       "      <td>644.0</td>\n",
       "      <td>0.0</td>\n",
       "      <td>0.0</td>\n",
       "      <td>0.0</td>\n",
       "      <td>0.0</td>\n",
       "      <td>0.0</td>\n",
       "      <td>0.0</td>\n",
       "      <td>180.0</td>\n",
       "      <td>4713.0</td>\n",
       "      <td>0.0</td>\n",
       "      <td>0.0</td>\n",
       "      <td>0.0</td>\n",
       "      <td>0.0</td>\n",
       "      <td>0.0</td>\n",
       "      <td>194.0</td>\n",
       "      <td>0.0</td>\n",
       "      <td>62000</td>\n",
       "      <td>14</td>\n",
       "      <td>10</td>\n",
       "      <td>2013</td>\n",
       "      <td>2013-10-14</td>\n",
       "    </tr>\n",
       "    <tr>\n",
       "      <th>1</th>\n",
       "      <td>503</td>\n",
       "      <td>1</td>\n",
       "      <td>12</td>\n",
       "      <td>77</td>\n",
       "      <td>55</td>\n",
       "      <td>22</td>\n",
       "      <td>CH01</td>\n",
       "      <td>GN0115</td>\n",
       "      <td>5</td>\n",
       "      <td>11</td>\n",
       "      <td>1946</td>\n",
       "      <td>1</td>\n",
       "      <td>7</td>\n",
       "      <td>0.0</td>\n",
       "      <td>150.0</td>\n",
       "      <td>0.0</td>\n",
       "      <td>0.0</td>\n",
       "      <td>0.0</td>\n",
       "      <td>380.0</td>\n",
       "      <td>0.0</td>\n",
       "      <td>0.0</td>\n",
       "      <td>2894.0</td>\n",
       "      <td>132.0</td>\n",
       "      <td>3720.0</td>\n",
       "      <td>0.0</td>\n",
       "      <td>0.0</td>\n",
       "      <td>0.0</td>\n",
       "      <td>0.0</td>\n",
       "      <td>0.0</td>\n",
       "      <td>633.0</td>\n",
       "      <td>0.0</td>\n",
       "      <td>62123</td>\n",
       "      <td>16</td>\n",
       "      <td>10</td>\n",
       "      <td>2013</td>\n",
       "      <td>2013-10-16</td>\n",
       "    </tr>\n",
       "    <tr>\n",
       "      <th>2</th>\n",
       "      <td>507</td>\n",
       "      <td>2</td>\n",
       "      <td>11</td>\n",
       "      <td>55</td>\n",
       "      <td>55</td>\n",
       "      <td>0</td>\n",
       "      <td>CH01</td>\n",
       "      <td>GN0112</td>\n",
       "      <td>2</td>\n",
       "      <td>4</td>\n",
       "      <td>1962</td>\n",
       "      <td>1</td>\n",
       "      <td>8</td>\n",
       "      <td>0.0</td>\n",
       "      <td>0.0</td>\n",
       "      <td>828.0</td>\n",
       "      <td>0.0</td>\n",
       "      <td>0.0</td>\n",
       "      <td>868.0</td>\n",
       "      <td>0.0</td>\n",
       "      <td>0.0</td>\n",
       "      <td>792.0</td>\n",
       "      <td>36.0</td>\n",
       "      <td>2449.0</td>\n",
       "      <td>0.0</td>\n",
       "      <td>0.0</td>\n",
       "      <td>0.0</td>\n",
       "      <td>0.0</td>\n",
       "      <td>0.0</td>\n",
       "      <td>0.0</td>\n",
       "      <td>0.0</td>\n",
       "      <td>62450</td>\n",
       "      <td>21</td>\n",
       "      <td>10</td>\n",
       "      <td>2013</td>\n",
       "      <td>2013-10-21</td>\n",
       "    </tr>\n",
       "    <tr>\n",
       "      <th>3</th>\n",
       "      <td>508</td>\n",
       "      <td>1</td>\n",
       "      <td>15</td>\n",
       "      <td>99</td>\n",
       "      <td>71</td>\n",
       "      <td>28</td>\n",
       "      <td>CH01</td>\n",
       "      <td>GN0121</td>\n",
       "      <td>5</td>\n",
       "      <td>9</td>\n",
       "      <td>1958</td>\n",
       "      <td>1</td>\n",
       "      <td>7</td>\n",
       "      <td>0.0</td>\n",
       "      <td>24.0</td>\n",
       "      <td>92.0</td>\n",
       "      <td>0.0</td>\n",
       "      <td>0.0</td>\n",
       "      <td>711.0</td>\n",
       "      <td>0.0</td>\n",
       "      <td>0.0</td>\n",
       "      <td>1788.0</td>\n",
       "      <td>156.0</td>\n",
       "      <td>5383.0</td>\n",
       "      <td>0.0</td>\n",
       "      <td>0.0</td>\n",
       "      <td>30.0</td>\n",
       "      <td>0.0</td>\n",
       "      <td>0.0</td>\n",
       "      <td>57.0</td>\n",
       "      <td>0.0</td>\n",
       "      <td>62260</td>\n",
       "      <td>21</td>\n",
       "      <td>10</td>\n",
       "      <td>2013</td>\n",
       "      <td>2013-10-21</td>\n",
       "    </tr>\n",
       "    <tr>\n",
       "      <th>4</th>\n",
       "      <td>514</td>\n",
       "      <td>1</td>\n",
       "      <td>11</td>\n",
       "      <td>69</td>\n",
       "      <td>49</td>\n",
       "      <td>20</td>\n",
       "      <td>CH01</td>\n",
       "      <td>GN0112</td>\n",
       "      <td>8</td>\n",
       "      <td>12</td>\n",
       "      <td>1996</td>\n",
       "      <td>1</td>\n",
       "      <td>7</td>\n",
       "      <td>0.0</td>\n",
       "      <td>575.0</td>\n",
       "      <td>0.0</td>\n",
       "      <td>0.0</td>\n",
       "      <td>0.0</td>\n",
       "      <td>0.0</td>\n",
       "      <td>0.0</td>\n",
       "      <td>0.0</td>\n",
       "      <td>1815.0</td>\n",
       "      <td>118.0</td>\n",
       "      <td>3910.0</td>\n",
       "      <td>0.0</td>\n",
       "      <td>0.0</td>\n",
       "      <td>193.0</td>\n",
       "      <td>0.0</td>\n",
       "      <td>0.0</td>\n",
       "      <td>248.0</td>\n",
       "      <td>0.0</td>\n",
       "      <td>62690</td>\n",
       "      <td>24</td>\n",
       "      <td>10</td>\n",
       "      <td>2013</td>\n",
       "      <td>2013-10-24</td>\n",
       "    </tr>\n",
       "  </tbody>\n",
       "</table>\n",
       "</div>"
      ],
      "text/plain": [
       "   N_ordre  type hosp  nb_rhs  nb_jours_total  nb_jours_semaine  nb_jours_WE  \\\n",
       "0      498          1      12              79                57           22   \n",
       "1      503          1      12              77                55           22   \n",
       "2      507          2      11              55                55            0   \n",
       "3      508          1      15              99                71           28   \n",
       "4      514          1      11              69                49           20   \n",
       "\n",
       "  T_chapitre    T_GN  dep_sup  dep_physique  annee_naissance  sexe  entree  \\\n",
       "0       CH08  GN0863        4            12             1952     1       7   \n",
       "1       CH01  GN0115        5            11             1946     1       7   \n",
       "2       CH01  GN0112        2             4             1962     1       8   \n",
       "3       CH01  GN0121        5             9             1958     1       7   \n",
       "4       CH01  GN0112        8            12             1996     1       7   \n",
       "\n",
       "   Animateur  Assistant de service social  Autre intervenant  Diététicien  \\\n",
       "0        0.0                          0.0              644.0          0.0   \n",
       "1        0.0                        150.0                0.0          0.0   \n",
       "2        0.0                          0.0              828.0          0.0   \n",
       "3        0.0                         24.0               92.0          0.0   \n",
       "4        0.0                        575.0                0.0          0.0   \n",
       "\n",
       "   Éducateur spécialisé  Éducateur sportif  Enseignant général  Ergonome  \\\n",
       "0                   0.0                0.0                 0.0       0.0   \n",
       "1                   0.0              380.0                 0.0       0.0   \n",
       "2                   0.0              868.0                 0.0       0.0   \n",
       "3                   0.0              711.0                 0.0       0.0   \n",
       "4                   0.0                0.0                 0.0       0.0   \n",
       "\n",
       "   Ergothérapeute  Infirmier  Masseurkinésithérapeute  Moniteur d’autoécole  \\\n",
       "0             0.0      180.0                   4713.0                   0.0   \n",
       "1          2894.0      132.0                   3720.0                   0.0   \n",
       "2           792.0       36.0                   2449.0                   0.0   \n",
       "3          1788.0      156.0                   5383.0                   0.0   \n",
       "4          1815.0      118.0                   3910.0                   0.0   \n",
       "\n",
       "   Moniteur éducateur  Orthophoniste  Orthoprothésiste  Osteopathe  \\\n",
       "0                 0.0            0.0               0.0         0.0   \n",
       "1                 0.0            0.0               0.0         0.0   \n",
       "2                 0.0            0.0               0.0         0.0   \n",
       "3                 0.0           30.0               0.0         0.0   \n",
       "4                 0.0          193.0               0.0         0.0   \n",
       "\n",
       "   Psychologue  Psychomotricien     CP  jour_entree  mois_entree  \\\n",
       "0        194.0              0.0  62000           14           10   \n",
       "1        633.0              0.0  62123           16           10   \n",
       "2          0.0              0.0  62450           21           10   \n",
       "3         57.0              0.0  62260           21           10   \n",
       "4        248.0              0.0  62690           24           10   \n",
       "\n",
       "   annee_entree date_entree  \n",
       "0          2013  2013-10-14  \n",
       "1          2013  2013-10-16  \n",
       "2          2013  2013-10-21  \n",
       "3          2013  2013-10-21  \n",
       "4          2013  2013-10-24  "
      ]
     },
     "execution_count": 4,
     "metadata": {},
     "output_type": "execute_result"
    }
   ],
   "source": [
    "#Nous n'observons que le début de la table pour s'assurer qu'elle s'est bien chargée.\n",
    "data.head()"
   ]
  },
  {
   "cell_type": "markdown",
   "metadata": {},
   "source": [
    "# I. Data Engineering  <a name=\"management\"></a>"
   ]
  },
  {
   "cell_type": "markdown",
   "metadata": {},
   "source": [
    "- ## Feature engineering"
   ]
  },
  {
   "cell_type": "code",
   "execution_count": 5,
   "metadata": {
    "collapsed": true
   },
   "outputs": [],
   "source": [
    "target = [\"nb_rhs\"]"
   ]
  },
  {
   "cell_type": "code",
   "execution_count": 6,
   "metadata": {
    "collapsed": true
   },
   "outputs": [],
   "source": [
    "#Features\n",
    "\n",
    "#create age instead at time of entry\n",
    "data[\"Age\"] = data[\"annee_entree\"] - data[\"annee_naissance\"]\n",
    "\n",
    "#create indicator for u'nb_jours_WE'\n",
    "def weekend_indicator(x):\n",
    "    \"\"\"input : x scalar\"\"\"\n",
    "    if x < 0.8:\n",
    "        return 0\n",
    "    if x>=0.8 and x<1.8:\n",
    "        return 1\n",
    "    if x>=1.8:\n",
    "        return 2\n",
    "data[\"weekend_indicator\"] = (data[\"nb_jours_WE\"]/data[\"nb_rhs\"]).apply(lambda x :weekend_indicator(x))\n",
    "\n",
    "#add nombre d'intervenants\n",
    "def nb_inter(row,practiciens):\n",
    "    \"\"\"\n",
    "    Input:\n",
    "    row : row of dataframe\n",
    "    practiciens : métier\n",
    "    \"\"\"\n",
    "    count = 0\n",
    "    for col in practiciens:\n",
    "        if row[col]>0:\n",
    "            count+=1\n",
    "    return count\n",
    "data[\"Nb_intervenants\"] = data.apply(lambda row : nb_inter(row,practiciens),axis=1)\n",
    "\n",
    "data['Total_interventions'] = data[practiciens].sum(axis=1)\n",
    "\n",
    "#eliminate those who have Nb_intervenants = 0\n",
    "data = data[data[\"Nb_intervenants\"]>0].reset_index(drop = True)\n",
    "data = data[data[\"nb_rhs\"]>39].reset_index(drop = True)\n",
    "#data = data[data[target]>0].reset_index(drop = True)\n",
    "\n",
    "#regroup by postal county\n",
    "#CP est un type entier reformater en string avec 0 devant\n",
    "data['CP'] = data['CP'].apply(lambda x : str(x).zfill(5))\n",
    "data['CP_departement']=data['CP'].apply(lambda x : x[0:2])"
   ]
  },
  {
   "cell_type": "code",
   "execution_count": 7,
   "metadata": {
    "collapsed": true
   },
   "outputs": [],
   "source": [
    "#threshold and discretize \n",
    "\n",
    "#Creation de la variable “chapitre” simplifiee : \n",
    "#Correlation la plus grande avec “NbSemaines”\n",
    "def simple_chap(chapitre):\n",
    "    if \"08\" in chapitre:\n",
    "        return 0\n",
    "    if \"01\" in chapitre:\n",
    "        return 1\n",
    "    else:\n",
    "        return 2\n",
    "data[\"T_chapitre_discretized\"] = data[\"T_chapitre\"].apply(lambda x : simple_chap(x))\n",
    "\n",
    "\n",
    "thresh_practiciens = {\n",
    "     u'Animateur' : 909,\n",
    "     u'Assistant de service social':243,\n",
    "     u'Autre intervenant':227,\n",
    "     u'Di\\xe9t\\xe9ticien':81,\n",
    "     u'\\xc9ducateur sp\\xe9cialis\\xe9':913,\n",
    "     u'\\xc9ducateur sportif':781,\n",
    "     u'Enseignant g\\xe9n\\xe9ral':1888,\n",
    "     u'Ergonome':258,\n",
    "     u'Ergoth\\xe9rapeute':781,\n",
    "     u'Infirmier':411,\n",
    "     u'Masseurkin\\xe9sith\\xe9rapeute':1419,\n",
    "     u'Moniteur d\\u2019auto\\xe9cole':338,\n",
    "     u'Moniteur \\xe9ducateur':1715,\n",
    "     u'Orthophoniste':945,\n",
    "     u'Orthoproth\\xe9siste':84,\n",
    "     u'Osteopathe':194,\n",
    "     u'Psychologue':364,\n",
    "     u'Psychomotricien':577\n",
    "}\n",
    "\n",
    "#Discretise for each practicien:\n",
    "for col in practiciens:\n",
    "    thresh = thresh_practiciens[col]\n",
    "    data[u\"%s_discretized\"%col]  = data[col].apply(lambda x : 1 if x>0 and x<=thresh else (2 if x>thresh else 0))"
   ]
  },
  {
   "cell_type": "raw",
   "metadata": {},
   "source": [
    "def get_meanbycategory(column_name):\n",
    "    mean_by_category = newdata[[column_name, 'Total duration']].groupby([column_name], as_index=False).mean()\n",
    "    category_list = np.asarray(mean_by_category[column_name]).tolist()\n",
    "    mean_list = np.asarray(mean_by_category['Total duration']).tolist()\n",
    "    return category_list, mean_list\n",
    "\n",
    "feature = 'BaseInpatientInformation#Diagnostic code'\n",
    "newfeature = 'BaseInpatientInformation#Diagnostic code#Mean'\n",
    "\n",
    "categories, means = get_meanbycategory(feature)\n",
    "\n",
    "def apply_meancategory(x):\n",
    "    index = categories.index(x)\n",
    "    return means[index]\n",
    "\n",
    "newdata[newfeature] = newdata[feature].apply(apply_meancategory)\n",
    "\n",
    "agg_funcs = {'Total duration': ['count']}\n",
    "newdata[[newfeature,'Total duration']] \\\n",
    "    .groupby([newfeature], as_index=False) \\\n",
    "    .agg(agg_funcs)"
   ]
  },
  {
   "cell_type": "code",
   "execution_count": 8,
   "metadata": {
    "collapsed": true,
    "scrolled": true
   },
   "outputs": [],
   "source": [
    "#mean et mediane\n",
    "GN_Avg_Med = pd.read_csv(\"../data/aux/GN_Avg_Med.csv\",sep=\",\",encoding=\"utf8\")\n",
    "data = pd.merge(data,GN_Avg_Med,on=\"T_GN\",how=\"left\")\n",
    "left_cols = [x+\"_x\" for x in GN_Avg_Med.columns if x != \"T_GN\"]\n",
    "\n",
    "Chapitre_Avg_Med = pd.read_csv(\"../data/aux/Chapitre_Avg_Med.csv\",sep=\",\",encoding=\"utf8\").rename({\"T_Chapitre\":\n",
    "                                                                                                  \"T_chapitre\"},axis=1)\n",
    "data = pd.merge(data,Chapitre_Avg_Med,on=\"T_chapitre\",how=\"left\")\n",
    "left_cols = left_cols + [x+\"_y\" for x in Chapitre_Avg_Med.columns if x != \"T_chapitre\"]"
   ]
  },
  {
   "cell_type": "code",
   "execution_count": 9,
   "metadata": {
    "collapsed": true
   },
   "outputs": [],
   "source": [
    "def summarize(df):\n",
    "    #summary\n",
    "    summary =  pd.DataFrame()\n",
    "    cols = list(df.columns)\n",
    "    summary[\"column\"] =  cols\n",
    "    summary[\"type\"] = list(df[cols].dtypes)\n",
    "    summary[\"nb_missing_values\"] = list(df[cols].isnull().sum())\n",
    "    summary[\"nb_missing_values%\"] = summary[\"nb_missing_values\"]/len(df)*100\n",
    "    summary[\"nb_unique\"]= [df[x].dropna().nunique() for x in summary[\"column\"]]\n",
    "    summary.set_index(\"column\",inplace=True)\n",
    "    return summary\n"
   ]
  },
  {
   "cell_type": "code",
   "execution_count": 10,
   "metadata": {},
   "outputs": [
    {
     "data": {
      "text/html": [
       "<div>\n",
       "<style scoped>\n",
       "    .dataframe tbody tr th:only-of-type {\n",
       "        vertical-align: middle;\n",
       "    }\n",
       "\n",
       "    .dataframe tbody tr th {\n",
       "        vertical-align: top;\n",
       "    }\n",
       "\n",
       "    .dataframe thead th {\n",
       "        text-align: right;\n",
       "    }\n",
       "</style>\n",
       "<table border=\"1\" class=\"dataframe\">\n",
       "  <thead>\n",
       "    <tr style=\"text-align: right;\">\n",
       "      <th></th>\n",
       "      <th>type</th>\n",
       "      <th>nb_missing_values</th>\n",
       "      <th>nb_missing_values%</th>\n",
       "      <th>nb_unique</th>\n",
       "    </tr>\n",
       "    <tr>\n",
       "      <th>column</th>\n",
       "      <th></th>\n",
       "      <th></th>\n",
       "      <th></th>\n",
       "      <th></th>\n",
       "    </tr>\n",
       "  </thead>\n",
       "  <tbody>\n",
       "    <tr>\n",
       "      <th>N_ordre</th>\n",
       "      <td>int64</td>\n",
       "      <td>0</td>\n",
       "      <td>0.0</td>\n",
       "      <td>36128</td>\n",
       "    </tr>\n",
       "    <tr>\n",
       "      <th>type hosp</th>\n",
       "      <td>int64</td>\n",
       "      <td>0</td>\n",
       "      <td>0.0</td>\n",
       "      <td>2</td>\n",
       "    </tr>\n",
       "    <tr>\n",
       "      <th>nb_rhs</th>\n",
       "      <td>int64</td>\n",
       "      <td>0</td>\n",
       "      <td>0.0</td>\n",
       "      <td>122</td>\n",
       "    </tr>\n",
       "    <tr>\n",
       "      <th>nb_jours_total</th>\n",
       "      <td>int64</td>\n",
       "      <td>0</td>\n",
       "      <td>0.0</td>\n",
       "      <td>464</td>\n",
       "    </tr>\n",
       "    <tr>\n",
       "      <th>nb_jours_semaine</th>\n",
       "      <td>int64</td>\n",
       "      <td>0</td>\n",
       "      <td>0.0</td>\n",
       "      <td>367</td>\n",
       "    </tr>\n",
       "    <tr>\n",
       "      <th>nb_jours_WE</th>\n",
       "      <td>int64</td>\n",
       "      <td>0</td>\n",
       "      <td>0.0</td>\n",
       "      <td>188</td>\n",
       "    </tr>\n",
       "    <tr>\n",
       "      <th>T_chapitre</th>\n",
       "      <td>object</td>\n",
       "      <td>0</td>\n",
       "      <td>0.0</td>\n",
       "      <td>15</td>\n",
       "    </tr>\n",
       "    <tr>\n",
       "      <th>T_GN</th>\n",
       "      <td>object</td>\n",
       "      <td>0</td>\n",
       "      <td>0.0</td>\n",
       "      <td>96</td>\n",
       "    </tr>\n",
       "    <tr>\n",
       "      <th>dep_sup</th>\n",
       "      <td>int64</td>\n",
       "      <td>0</td>\n",
       "      <td>0.0</td>\n",
       "      <td>7</td>\n",
       "    </tr>\n",
       "    <tr>\n",
       "      <th>dep_physique</th>\n",
       "      <td>int64</td>\n",
       "      <td>0</td>\n",
       "      <td>0.0</td>\n",
       "      <td>13</td>\n",
       "    </tr>\n",
       "    <tr>\n",
       "      <th>annee_naissance</th>\n",
       "      <td>int64</td>\n",
       "      <td>0</td>\n",
       "      <td>0.0</td>\n",
       "      <td>102</td>\n",
       "    </tr>\n",
       "    <tr>\n",
       "      <th>sexe</th>\n",
       "      <td>int64</td>\n",
       "      <td>0</td>\n",
       "      <td>0.0</td>\n",
       "      <td>2</td>\n",
       "    </tr>\n",
       "    <tr>\n",
       "      <th>entree</th>\n",
       "      <td>int64</td>\n",
       "      <td>0</td>\n",
       "      <td>0.0</td>\n",
       "      <td>3</td>\n",
       "    </tr>\n",
       "    <tr>\n",
       "      <th>Animateur</th>\n",
       "      <td>float64</td>\n",
       "      <td>0</td>\n",
       "      <td>0.0</td>\n",
       "      <td>462</td>\n",
       "    </tr>\n",
       "    <tr>\n",
       "      <th>Assistant de service social</th>\n",
       "      <td>float64</td>\n",
       "      <td>0</td>\n",
       "      <td>0.0</td>\n",
       "      <td>867</td>\n",
       "    </tr>\n",
       "    <tr>\n",
       "      <th>Autre intervenant</th>\n",
       "      <td>float64</td>\n",
       "      <td>0</td>\n",
       "      <td>0.0</td>\n",
       "      <td>936</td>\n",
       "    </tr>\n",
       "    <tr>\n",
       "      <th>Diététicien</th>\n",
       "      <td>float64</td>\n",
       "      <td>0</td>\n",
       "      <td>0.0</td>\n",
       "      <td>381</td>\n",
       "    </tr>\n",
       "    <tr>\n",
       "      <th>Éducateur spécialisé</th>\n",
       "      <td>float64</td>\n",
       "      <td>0</td>\n",
       "      <td>0.0</td>\n",
       "      <td>466</td>\n",
       "    </tr>\n",
       "    <tr>\n",
       "      <th>Éducateur sportif</th>\n",
       "      <td>float64</td>\n",
       "      <td>0</td>\n",
       "      <td>0.0</td>\n",
       "      <td>2693</td>\n",
       "    </tr>\n",
       "    <tr>\n",
       "      <th>Enseignant général</th>\n",
       "      <td>float64</td>\n",
       "      <td>0</td>\n",
       "      <td>0.0</td>\n",
       "      <td>197</td>\n",
       "    </tr>\n",
       "    <tr>\n",
       "      <th>Ergonome</th>\n",
       "      <td>float64</td>\n",
       "      <td>0</td>\n",
       "      <td>0.0</td>\n",
       "      <td>452</td>\n",
       "    </tr>\n",
       "    <tr>\n",
       "      <th>Ergothérapeute</th>\n",
       "      <td>float64</td>\n",
       "      <td>0</td>\n",
       "      <td>0.0</td>\n",
       "      <td>4491</td>\n",
       "    </tr>\n",
       "    <tr>\n",
       "      <th>Infirmier</th>\n",
       "      <td>float64</td>\n",
       "      <td>0</td>\n",
       "      <td>0.0</td>\n",
       "      <td>2151</td>\n",
       "    </tr>\n",
       "    <tr>\n",
       "      <th>Masseurkinésithérapeute</th>\n",
       "      <td>float64</td>\n",
       "      <td>0</td>\n",
       "      <td>0.0</td>\n",
       "      <td>5123</td>\n",
       "    </tr>\n",
       "    <tr>\n",
       "      <th>Moniteur d’autoécole</th>\n",
       "      <td>float64</td>\n",
       "      <td>0</td>\n",
       "      <td>0.0</td>\n",
       "      <td>75</td>\n",
       "    </tr>\n",
       "    <tr>\n",
       "      <th>Moniteur éducateur</th>\n",
       "      <td>float64</td>\n",
       "      <td>0</td>\n",
       "      <td>0.0</td>\n",
       "      <td>458</td>\n",
       "    </tr>\n",
       "    <tr>\n",
       "      <th>Orthophoniste</th>\n",
       "      <td>float64</td>\n",
       "      <td>0</td>\n",
       "      <td>0.0</td>\n",
       "      <td>876</td>\n",
       "    </tr>\n",
       "    <tr>\n",
       "      <th>Orthoprothésiste</th>\n",
       "      <td>float64</td>\n",
       "      <td>0</td>\n",
       "      <td>0.0</td>\n",
       "      <td>347</td>\n",
       "    </tr>\n",
       "    <tr>\n",
       "      <th>Osteopathe</th>\n",
       "      <td>float64</td>\n",
       "      <td>0</td>\n",
       "      <td>0.0</td>\n",
       "      <td>82</td>\n",
       "    </tr>\n",
       "    <tr>\n",
       "      <th>Psychologue</th>\n",
       "      <td>float64</td>\n",
       "      <td>0</td>\n",
       "      <td>0.0</td>\n",
       "      <td>1217</td>\n",
       "    </tr>\n",
       "    <tr>\n",
       "      <th>...</th>\n",
       "      <td>...</td>\n",
       "      <td>...</td>\n",
       "      <td>...</td>\n",
       "      <td>...</td>\n",
       "    </tr>\n",
       "    <tr>\n",
       "      <th>Enseignant général_discretized</th>\n",
       "      <td>int64</td>\n",
       "      <td>0</td>\n",
       "      <td>0.0</td>\n",
       "      <td>3</td>\n",
       "    </tr>\n",
       "    <tr>\n",
       "      <th>Ergonome_discretized</th>\n",
       "      <td>int64</td>\n",
       "      <td>0</td>\n",
       "      <td>0.0</td>\n",
       "      <td>3</td>\n",
       "    </tr>\n",
       "    <tr>\n",
       "      <th>Ergothérapeute_discretized</th>\n",
       "      <td>int64</td>\n",
       "      <td>0</td>\n",
       "      <td>0.0</td>\n",
       "      <td>3</td>\n",
       "    </tr>\n",
       "    <tr>\n",
       "      <th>Infirmier_discretized</th>\n",
       "      <td>int64</td>\n",
       "      <td>0</td>\n",
       "      <td>0.0</td>\n",
       "      <td>3</td>\n",
       "    </tr>\n",
       "    <tr>\n",
       "      <th>Masseurkinésithérapeute_discretized</th>\n",
       "      <td>int64</td>\n",
       "      <td>0</td>\n",
       "      <td>0.0</td>\n",
       "      <td>3</td>\n",
       "    </tr>\n",
       "    <tr>\n",
       "      <th>Moniteur d’autoécole_discretized</th>\n",
       "      <td>int64</td>\n",
       "      <td>0</td>\n",
       "      <td>0.0</td>\n",
       "      <td>3</td>\n",
       "    </tr>\n",
       "    <tr>\n",
       "      <th>Moniteur éducateur_discretized</th>\n",
       "      <td>int64</td>\n",
       "      <td>0</td>\n",
       "      <td>0.0</td>\n",
       "      <td>3</td>\n",
       "    </tr>\n",
       "    <tr>\n",
       "      <th>Orthophoniste_discretized</th>\n",
       "      <td>int64</td>\n",
       "      <td>0</td>\n",
       "      <td>0.0</td>\n",
       "      <td>3</td>\n",
       "    </tr>\n",
       "    <tr>\n",
       "      <th>Orthoprothésiste_discretized</th>\n",
       "      <td>int64</td>\n",
       "      <td>0</td>\n",
       "      <td>0.0</td>\n",
       "      <td>3</td>\n",
       "    </tr>\n",
       "    <tr>\n",
       "      <th>Osteopathe_discretized</th>\n",
       "      <td>int64</td>\n",
       "      <td>0</td>\n",
       "      <td>0.0</td>\n",
       "      <td>3</td>\n",
       "    </tr>\n",
       "    <tr>\n",
       "      <th>Psychologue_discretized</th>\n",
       "      <td>int64</td>\n",
       "      <td>0</td>\n",
       "      <td>0.0</td>\n",
       "      <td>3</td>\n",
       "    </tr>\n",
       "    <tr>\n",
       "      <th>Psychomotricien_discretized</th>\n",
       "      <td>int64</td>\n",
       "      <td>0</td>\n",
       "      <td>0.0</td>\n",
       "      <td>3</td>\n",
       "    </tr>\n",
       "    <tr>\n",
       "      <th>n_x</th>\n",
       "      <td>int64</td>\n",
       "      <td>0</td>\n",
       "      <td>0.0</td>\n",
       "      <td>76</td>\n",
       "    </tr>\n",
       "    <tr>\n",
       "      <th>avg_nb_sem_x</th>\n",
       "      <td>float64</td>\n",
       "      <td>0</td>\n",
       "      <td>0.0</td>\n",
       "      <td>94</td>\n",
       "    </tr>\n",
       "    <tr>\n",
       "      <th>avg_nb_jours_sem_x</th>\n",
       "      <td>float64</td>\n",
       "      <td>0</td>\n",
       "      <td>0.0</td>\n",
       "      <td>96</td>\n",
       "    </tr>\n",
       "    <tr>\n",
       "      <th>avg_nb_jours_total_x</th>\n",
       "      <td>float64</td>\n",
       "      <td>0</td>\n",
       "      <td>0.0</td>\n",
       "      <td>96</td>\n",
       "    </tr>\n",
       "    <tr>\n",
       "      <th>avg_nbr_jours_we_x</th>\n",
       "      <td>float64</td>\n",
       "      <td>0</td>\n",
       "      <td>0.0</td>\n",
       "      <td>92</td>\n",
       "    </tr>\n",
       "    <tr>\n",
       "      <th>med_nb_sem_x</th>\n",
       "      <td>float64</td>\n",
       "      <td>0</td>\n",
       "      <td>0.0</td>\n",
       "      <td>17</td>\n",
       "    </tr>\n",
       "    <tr>\n",
       "      <th>med_nb_jours_sem_x</th>\n",
       "      <td>float64</td>\n",
       "      <td>0</td>\n",
       "      <td>0.0</td>\n",
       "      <td>39</td>\n",
       "    </tr>\n",
       "    <tr>\n",
       "      <th>med_nb_jours_total_x</th>\n",
       "      <td>float64</td>\n",
       "      <td>0</td>\n",
       "      <td>0.0</td>\n",
       "      <td>44</td>\n",
       "    </tr>\n",
       "    <tr>\n",
       "      <th>med_nbr_jours_we_x</th>\n",
       "      <td>float64</td>\n",
       "      <td>0</td>\n",
       "      <td>0.0</td>\n",
       "      <td>19</td>\n",
       "    </tr>\n",
       "    <tr>\n",
       "      <th>n_y</th>\n",
       "      <td>int64</td>\n",
       "      <td>0</td>\n",
       "      <td>0.0</td>\n",
       "      <td>15</td>\n",
       "    </tr>\n",
       "    <tr>\n",
       "      <th>avg_nb_sem_y</th>\n",
       "      <td>float64</td>\n",
       "      <td>0</td>\n",
       "      <td>0.0</td>\n",
       "      <td>15</td>\n",
       "    </tr>\n",
       "    <tr>\n",
       "      <th>avg_nb_jours_sem_y</th>\n",
       "      <td>float64</td>\n",
       "      <td>0</td>\n",
       "      <td>0.0</td>\n",
       "      <td>15</td>\n",
       "    </tr>\n",
       "    <tr>\n",
       "      <th>avg_nb_jours_total_y</th>\n",
       "      <td>float64</td>\n",
       "      <td>0</td>\n",
       "      <td>0.0</td>\n",
       "      <td>15</td>\n",
       "    </tr>\n",
       "    <tr>\n",
       "      <th>avg_nbr_jours_we_y</th>\n",
       "      <td>float64</td>\n",
       "      <td>0</td>\n",
       "      <td>0.0</td>\n",
       "      <td>15</td>\n",
       "    </tr>\n",
       "    <tr>\n",
       "      <th>med_nb_sem_y</th>\n",
       "      <td>float64</td>\n",
       "      <td>0</td>\n",
       "      <td>0.0</td>\n",
       "      <td>6</td>\n",
       "    </tr>\n",
       "    <tr>\n",
       "      <th>med_nb_jours_sem_y</th>\n",
       "      <td>float64</td>\n",
       "      <td>0</td>\n",
       "      <td>0.0</td>\n",
       "      <td>10</td>\n",
       "    </tr>\n",
       "    <tr>\n",
       "      <th>med_nb_jours_total_y</th>\n",
       "      <td>float64</td>\n",
       "      <td>0</td>\n",
       "      <td>0.0</td>\n",
       "      <td>13</td>\n",
       "    </tr>\n",
       "    <tr>\n",
       "      <th>med_nbr_jours_we_y</th>\n",
       "      <td>float64</td>\n",
       "      <td>0</td>\n",
       "      <td>0.0</td>\n",
       "      <td>8</td>\n",
       "    </tr>\n",
       "  </tbody>\n",
       "</table>\n",
       "<p>78 rows × 4 columns</p>\n",
       "</div>"
      ],
      "text/plain": [
       "                                        type  nb_missing_values  \\\n",
       "column                                                            \n",
       "N_ordre                                int64                  0   \n",
       "type hosp                              int64                  0   \n",
       "nb_rhs                                 int64                  0   \n",
       "nb_jours_total                         int64                  0   \n",
       "nb_jours_semaine                       int64                  0   \n",
       "nb_jours_WE                            int64                  0   \n",
       "T_chapitre                            object                  0   \n",
       "T_GN                                  object                  0   \n",
       "dep_sup                                int64                  0   \n",
       "dep_physique                           int64                  0   \n",
       "annee_naissance                        int64                  0   \n",
       "sexe                                   int64                  0   \n",
       "entree                                 int64                  0   \n",
       "Animateur                            float64                  0   \n",
       "Assistant de service social          float64                  0   \n",
       "Autre intervenant                    float64                  0   \n",
       "Diététicien                          float64                  0   \n",
       "Éducateur spécialisé                 float64                  0   \n",
       "Éducateur sportif                    float64                  0   \n",
       "Enseignant général                   float64                  0   \n",
       "Ergonome                             float64                  0   \n",
       "Ergothérapeute                       float64                  0   \n",
       "Infirmier                            float64                  0   \n",
       "Masseurkinésithérapeute              float64                  0   \n",
       "Moniteur d’autoécole                 float64                  0   \n",
       "Moniteur éducateur                   float64                  0   \n",
       "Orthophoniste                        float64                  0   \n",
       "Orthoprothésiste                     float64                  0   \n",
       "Osteopathe                           float64                  0   \n",
       "Psychologue                          float64                  0   \n",
       "...                                      ...                ...   \n",
       "Enseignant général_discretized         int64                  0   \n",
       "Ergonome_discretized                   int64                  0   \n",
       "Ergothérapeute_discretized             int64                  0   \n",
       "Infirmier_discretized                  int64                  0   \n",
       "Masseurkinésithérapeute_discretized    int64                  0   \n",
       "Moniteur d’autoécole_discretized       int64                  0   \n",
       "Moniteur éducateur_discretized         int64                  0   \n",
       "Orthophoniste_discretized              int64                  0   \n",
       "Orthoprothésiste_discretized           int64                  0   \n",
       "Osteopathe_discretized                 int64                  0   \n",
       "Psychologue_discretized                int64                  0   \n",
       "Psychomotricien_discretized            int64                  0   \n",
       "n_x                                    int64                  0   \n",
       "avg_nb_sem_x                         float64                  0   \n",
       "avg_nb_jours_sem_x                   float64                  0   \n",
       "avg_nb_jours_total_x                 float64                  0   \n",
       "avg_nbr_jours_we_x                   float64                  0   \n",
       "med_nb_sem_x                         float64                  0   \n",
       "med_nb_jours_sem_x                   float64                  0   \n",
       "med_nb_jours_total_x                 float64                  0   \n",
       "med_nbr_jours_we_x                   float64                  0   \n",
       "n_y                                    int64                  0   \n",
       "avg_nb_sem_y                         float64                  0   \n",
       "avg_nb_jours_sem_y                   float64                  0   \n",
       "avg_nb_jours_total_y                 float64                  0   \n",
       "avg_nbr_jours_we_y                   float64                  0   \n",
       "med_nb_sem_y                         float64                  0   \n",
       "med_nb_jours_sem_y                   float64                  0   \n",
       "med_nb_jours_total_y                 float64                  0   \n",
       "med_nbr_jours_we_y                   float64                  0   \n",
       "\n",
       "                                     nb_missing_values%  nb_unique  \n",
       "column                                                              \n",
       "N_ordre                                             0.0      36128  \n",
       "type hosp                                           0.0          2  \n",
       "nb_rhs                                              0.0        122  \n",
       "nb_jours_total                                      0.0        464  \n",
       "nb_jours_semaine                                    0.0        367  \n",
       "nb_jours_WE                                         0.0        188  \n",
       "T_chapitre                                          0.0         15  \n",
       "T_GN                                                0.0         96  \n",
       "dep_sup                                             0.0          7  \n",
       "dep_physique                                        0.0         13  \n",
       "annee_naissance                                     0.0        102  \n",
       "sexe                                                0.0          2  \n",
       "entree                                              0.0          3  \n",
       "Animateur                                           0.0        462  \n",
       "Assistant de service social                         0.0        867  \n",
       "Autre intervenant                                   0.0        936  \n",
       "Diététicien                                         0.0        381  \n",
       "Éducateur spécialisé                                0.0        466  \n",
       "Éducateur sportif                                   0.0       2693  \n",
       "Enseignant général                                  0.0        197  \n",
       "Ergonome                                            0.0        452  \n",
       "Ergothérapeute                                      0.0       4491  \n",
       "Infirmier                                           0.0       2151  \n",
       "Masseurkinésithérapeute                             0.0       5123  \n",
       "Moniteur d’autoécole                                0.0         75  \n",
       "Moniteur éducateur                                  0.0        458  \n",
       "Orthophoniste                                       0.0        876  \n",
       "Orthoprothésiste                                    0.0        347  \n",
       "Osteopathe                                          0.0         82  \n",
       "Psychologue                                         0.0       1217  \n",
       "...                                                 ...        ...  \n",
       "Enseignant général_discretized                      0.0          3  \n",
       "Ergonome_discretized                                0.0          3  \n",
       "Ergothérapeute_discretized                          0.0          3  \n",
       "Infirmier_discretized                               0.0          3  \n",
       "Masseurkinésithérapeute_discretized                 0.0          3  \n",
       "Moniteur d’autoécole_discretized                    0.0          3  \n",
       "Moniteur éducateur_discretized                      0.0          3  \n",
       "Orthophoniste_discretized                           0.0          3  \n",
       "Orthoprothésiste_discretized                        0.0          3  \n",
       "Osteopathe_discretized                              0.0          3  \n",
       "Psychologue_discretized                             0.0          3  \n",
       "Psychomotricien_discretized                         0.0          3  \n",
       "n_x                                                 0.0         76  \n",
       "avg_nb_sem_x                                        0.0         94  \n",
       "avg_nb_jours_sem_x                                  0.0         96  \n",
       "avg_nb_jours_total_x                                0.0         96  \n",
       "avg_nbr_jours_we_x                                  0.0         92  \n",
       "med_nb_sem_x                                        0.0         17  \n",
       "med_nb_jours_sem_x                                  0.0         39  \n",
       "med_nb_jours_total_x                                0.0         44  \n",
       "med_nbr_jours_we_x                                  0.0         19  \n",
       "n_y                                                 0.0         15  \n",
       "avg_nb_sem_y                                        0.0         15  \n",
       "avg_nb_jours_sem_y                                  0.0         15  \n",
       "avg_nb_jours_total_y                                0.0         15  \n",
       "avg_nbr_jours_we_y                                  0.0         15  \n",
       "med_nb_sem_y                                        0.0          6  \n",
       "med_nb_jours_sem_y                                  0.0         10  \n",
       "med_nb_jours_total_y                                0.0         13  \n",
       "med_nbr_jours_we_y                                  0.0          8  \n",
       "\n",
       "[78 rows x 4 columns]"
      ]
     },
     "execution_count": 10,
     "metadata": {},
     "output_type": "execute_result"
    }
   ],
   "source": [
    "summarize(data)"
   ]
  },
  {
   "cell_type": "markdown",
   "metadata": {},
   "source": [
    "- ## Features selection"
   ]
  },
  {
   "cell_type": "code",
   "execution_count": 11,
   "metadata": {
    "collapsed": true
   },
   "outputs": [],
   "source": [
    "useless = []+practiciens\n",
    "option =[\"dep_sup\",\"dep_physique\",\"CP\",\"jour_entree\",\"mois_entree\",\n",
    "        \"annee_entree\",\"weekend_indicator\",\"T_GN\"]\n",
    "keep = [\"N_ordre\",\"type hosp\",\"nb_jours_semaine\",\n",
    "        \"T_chapitre_discretized\",\"sexe\",\"Age\",\"weekend_indicator\",\n",
    "        \"entree\",\"Nb_intervenants\",\"dep_sup\",\"dep_physique\"]+left_cols\n",
    "\n",
    "keep_ = []\n",
    "for col in practiciens:\n",
    "    keep_.append(u\"%s_discretized\"%col)\n",
    "    \n",
    "data = data[keep+keep_]"
   ]
  },
  {
   "cell_type": "code",
   "execution_count": 12,
   "metadata": {
    "collapsed": true
   },
   "outputs": [],
   "source": [
    "list_categorical = [\"T_chapitre_discretized\",\"sexe\",\"entree\"]\n",
    "data = pd.get_dummies(data, columns=list_categorical,drop_first=True)"
   ]
  },
  {
   "cell_type": "code",
   "execution_count": 13,
   "metadata": {
    "collapsed": true
   },
   "outputs": [],
   "source": [
    "cols_dummies = [x for x in data.columns if any(y in x for y in list_categorical) ]\n",
    "keep = [x for x in keep if x not in list_categorical + target+[\"N_ordre\"]]+cols_dummies"
   ]
  },
  {
   "cell_type": "code",
   "execution_count": 14,
   "metadata": {},
   "outputs": [
    {
     "data": {
      "text/plain": [
       "(36128, 49)"
      ]
     },
     "execution_count": 14,
     "metadata": {},
     "output_type": "execute_result"
    }
   ],
   "source": [
    "data.shape"
   ]
  },
  {
   "cell_type": "markdown",
   "metadata": {},
   "source": [
    "- ## Train, Validation & Test set  <a name=\"split\"></a>"
   ]
  },
  {
   "cell_type": "markdown",
   "metadata": {},
   "source": [
    "***La donnée étant déjà traité de façon la plus simple depuis le premier Notebook, nous nous contentons pour notre première approche \"naïve\" de simplement séparer notre base de train afin de pouvoir évaluer le modèle d'apprentissage.***\n",
    "\n",
    "***Nous la considérons \"naïve\", dans la mesure où nous nous sommes seulement contentés de remplacer les NaN par la moyenne des valeurs existantes (pour les variables quantitatives). Le traitement des données est indispensable afin que le modèle d'apprentissage accepte le format des données en entrée.***"
   ]
  },
  {
   "cell_type": "markdown",
   "metadata": {},
   "source": [
    "- ## Data split"
   ]
  },
  {
   "cell_type": "code",
   "execution_count": 15,
   "metadata": {},
   "outputs": [
    {
     "name": "stderr",
     "output_type": "stream",
     "text": [
      "/home/paul/anaconda2/lib/python2.7/site-packages/sklearn/model_selection/_split.py:2026: FutureWarning: From version 0.21, test_size will always complement train_size unless both are specified.\n",
      "  FutureWarning)\n"
     ]
    }
   ],
   "source": [
    "from sklearn.model_selection import train_test_split\n",
    "y = data[target]\n",
    "X = data.drop(target,axis=1)\n",
    "X0_train,X0_test,y0_train,y0_test = train_test_split(X,\\\n",
    "                                                y,\\\n",
    "                                                train_size=26000,\\\n",
    "                                                random_state=42)"
   ]
  },
  {
   "cell_type": "code",
   "execution_count": 16,
   "metadata": {
    "scrolled": true
   },
   "outputs": [
    {
     "data": {
      "text/plain": [
       "<matplotlib.figure.Figure at 0x7fe48564af10>"
      ]
     },
     "metadata": {},
     "output_type": "display_data"
    },
    {
     "data": {
      "image/png": "[encoded data removed]",
      "text/plain": [
       "<matplotlib.figure.Figure at 0x7fe47efdf2d0>"
      ]
     },
     "metadata": {},
     "output_type": "display_data"
    }
   ],
   "source": [
    "#check target distribution between train and test just for good measure\n",
    "#add data type column info in order to identify origin, i.e. train or test\n",
    "temp = pd.DataFrame()\n",
    "temp[target[0]] = y0_train.values.astype(float).flatten().tolist() + y0_test.values.astype(float).flatten().tolist()\n",
    "temp['type_data']=['train'] * len(y0_train) + ['test']*len(y0_test) #because of simple concat\n",
    "\n",
    "\n",
    "try:\n",
    "    plt.figure(figsize=(8,8),dpi=100)\n",
    "    facet = sns.FacetGrid(temp, hue=\"type_data\",aspect=5.5) #palette=\"Blues_d\"\n",
    "    facet.map(sns.kdeplot,target[0],shade= True)\n",
    "    plt.title('Distributions de %s' %(\"nb_jours_semaine\"))\n",
    "    facet.add_legend()\n",
    "    plt.show()\n",
    "except Exception as e:\n",
    "    print(e)"
   ]
  },
  {
   "cell_type": "code",
   "execution_count": 17,
   "metadata": {
    "collapsed": true
   },
   "outputs": [],
   "source": [
    "#write train test on file\n",
    "pd.concat([X0_train,X0_test],axis=1).to_csv(\"../data/train_v0.csv\",encoding=\"utf8\")\n",
    "pd.concat([y0_train,y0_test],axis=1).to_csv(\"../data/test_v0.csv\",encoding=\"utf8\")\n"
   ]
  },
  {
   "cell_type": "code",
   "execution_count": 18,
   "metadata": {
    "collapsed": true
   },
   "outputs": [],
   "source": [
    "X0_train = X0_train.drop([\"N_ordre\"],axis=1)\n",
    "X0_test = X0_test.drop([\"N_ordre\"],axis=1)"
   ]
  },
  {
   "cell_type": "markdown",
   "metadata": {
    "collapsed": true
   },
   "source": [
    "# II. Machine learning  <a name=\"ML\"></a>"
   ]
  },
  {
   "cell_type": "markdown",
   "metadata": {},
   "source": [
    "Here comes the juicy part!"
   ]
  },
  {
   "cell_type": "markdown",
   "metadata": {},
   "source": [
    "***Avant d'entrer dans le coeur du machine learning, il est nécessaire de définir une métrique d'évaluation.***"
   ]
  },
  {
   "cell_type": "code",
   "execution_count": 19,
   "metadata": {
    "collapsed": true
   },
   "outputs": [],
   "source": [
    "from sklearn.metrics import mean_squared_error\n",
    "from math import sqrt\n",
    "\n",
    "# RMSE :root-mean-square error\n",
    "def RMSE(y_true, y_pred): \n",
    "    return sqrt(mean_squared_error(y_true, y_pred))\n",
    "\n",
    "\n",
    "# Mean Absolute Percentage Error\n",
    "def mape_error(y_true, y_pred): \n",
    "    return np.mean(np.abs((y_true - y_pred) / y_true)) * 100\n",
    "\n",
    "# Mean Absolute  Error\n",
    "def mae_error(y_true, y_pred): \n",
    "    return np.mean(np.abs((y_true - y_pred)))"
   ]
  },
  {
   "cell_type": "markdown",
   "metadata": {},
   "source": [
    "***Nous allons scinder la base de train afin de pouvoir évaluer le modèle, par l'intermédiaire de la méthode de validation croisée.***"
   ]
  },
  {
   "cell_type": "code",
   "execution_count": 20,
   "metadata": {},
   "outputs": [
    {
     "name": "stderr",
     "output_type": "stream",
     "text": [
      "/home/paul/anaconda2/lib/python2.7/site-packages/sklearn/cross_validation.py:41: DeprecationWarning: This module was deprecated in version 0.18 in favor of the model_selection module into which all the refactored classes and functions are moved. Also note that the interface of the new CV iterators are different from that of this module. This module will be removed in 0.20.\n",
      "  \"This module will be removed in 0.20.\", DeprecationWarning)\n",
      "/home/paul/anaconda2/lib/python2.7/site-packages/sklearn/grid_search.py:42: DeprecationWarning: This module was deprecated in version 0.18 in favor of the model_selection module into which all the refactored classes and functions are moved. This module will be removed in 0.20.\n",
      "  DeprecationWarning)\n"
     ]
    }
   ],
   "source": [
    "import sklearn\n",
    "from sklearn.cross_validation import train_test_split, KFold\n",
    "from sklearn.linear_model import LinearRegression\n",
    "from sklearn.metrics import mean_squared_error\n",
    "from sklearn.pipeline import Pipeline\n",
    "from sklearn.preprocessing import PolynomialFeatures\n",
    "from sklearn import grid_search\n",
    "from sklearn.model_selection import GridSearchCV"
   ]
  },
  {
   "cell_type": "markdown",
   "metadata": {},
   "source": [
    "- ## A. Méthode Linéaire  <a name=\"linéaire\"></a>\n",
    "    - Approche la plus naïve"
   ]
  },
  {
   "cell_type": "code",
   "execution_count": 21,
   "metadata": {},
   "outputs": [
    {
     "name": "stdout",
     "output_type": "stream",
     "text": [
      "CPU times: user 148 ms, sys: 80.2 ms, total: 228 ms\n",
      "Wall time: 61.6 ms\n"
     ]
    }
   ],
   "source": [
    "%%time\n",
    "#Apprentissage:\n",
    "lr = LinearRegression()\n",
    "lr.fit(X0_train, y0_train)\n",
    "\n",
    "#Prédiction:\n",
    "y_lr = lr.predict(X0_test)"
   ]
  },
  {
   "cell_type": "code",
   "execution_count": 22,
   "metadata": {},
   "outputs": [
    {
     "name": "stdout",
     "output_type": "stream",
     "text": [
      "L'erreur type (RMSE) est de 33.9137804398\n",
      "La moyenne absolue d'erreur est de 12.68126519062803.\n",
      "Variance score: 0.42\n"
     ]
    }
   ],
   "source": [
    "#Evaluation du modèle :\n",
    "print(\"L'erreur type (RMSE) est de %s\") %(RMSE(y0_test, y_lr))\n",
    "print(\"La moyenne absolue d'erreur est de %s.\") %(mae_error(y0_test.values, y_lr))\n",
    "print('Variance score: %.2f' % r2_score(y0_test.values, y_lr))"
   ]
  },
  {
   "cell_type": "markdown",
   "metadata": {},
   "source": [
    "- ## A. Méthode Linéaire  <a name=\"linéaire\"></a>\n",
    "    - Approche polynomiale et cross validation"
   ]
  },
  {
   "cell_type": "code",
   "execution_count": 23,
   "metadata": {
    "collapsed": true
   },
   "outputs": [],
   "source": [
    "#poly = PolynomialFeatures(2)\n",
    "def k_fold_cross_val_poly(folds, degrees, X, y):\n",
    "    #fonction qui calcule les scores RMSE pour K-fold et d degré polynomial\n",
    "    n = len(X)\n",
    "    kf = KFold(n, n_folds=folds,random_state=42)\n",
    "    poly = PolynomialFeatures(2)\n",
    "    X_ = poly.fit_transform(X[keep])\n",
    "    X_ = pd.DataFrame(X_)\n",
    "    X = pd.concat([X_,X[keep_]],axis=1)\n",
    "    #creation du dico qui retient les scores RMSE\n",
    "    kf_dict = dict([(\"fold_%s\" % i,[]) for i in range(1, folds+1)])\n",
    "    fold = 0\n",
    "    for train_index, test_index in kf:\n",
    "        fold += 1\n",
    "        #print \"Fold: %s\" % fold\n",
    "        X_train, X_test = X.ix[train_index], X.ix[test_index]\n",
    "        y_train, y_test = y.ix[train_index], y.ix[test_index]\n",
    "        # Incrémente le dégré polynomial\n",
    "        for d in range(1, degrees+1):\n",
    "            #print \"Degree: %s\" % d\n",
    "            # Model & fit\n",
    "            polynomial_features = PolynomialFeatures(\n",
    "                degree=d, include_bias=False\n",
    "            )\n",
    "            linear_regression = LinearRegression()\n",
    "            model = Pipeline([\n",
    "                (\"linear_regression\", linear_regression)\n",
    "            ])\n",
    "            model.fit(X_train, y_train)\n",
    "            # Calcul du RMSE\n",
    "            y_pred = model.predict(X_test)\n",
    "            test_rmse = RMSE(y_test, y_pred)\n",
    "            #print test_rmse\n",
    "            kf_dict[\"fold_%s\" % fold].append(test_rmse) #stockage dans le dict\n",
    "        # Transform en np.array pour le moyenner\n",
    "        kf_dict[\"fold_%s\" % fold] = np.array(kf_dict[\"fold_%s\" % fold])\n",
    "    #Dans le dico\n",
    "    kf_dict[\"avg\"] = np.zeros(degrees)\n",
    "    for i in range(1, folds+1):\n",
    "        kf_dict[\"avg\"] += kf_dict[\"fold_%s\" % i]\n",
    "    kf_dict[\"avg\"] /= float(folds)\n",
    "    return kf_dict\n",
    "\n",
    "def plot_test_error_curves_kf(kf_dict, folds, degrees):\n",
    "    #fonction qui permet de visualiser les résultats calculés par la fonction ci-dessus\n",
    "    fig, ax = plt.subplots(figsize=(10, 10))\n",
    "    ds = range(1, degrees+1)\n",
    "    for i in range(1, folds+1):\n",
    "        ax.plot(ds, kf_dict[\"fold_%s\" % i], lw=2, label='Test RMSE - Fold %s' % i)\n",
    "    ax.plot(ds, kf_dict[\"avg\"], linestyle='--', color=\"black\", lw=3, label='Avg Test RMSE')\n",
    "    ax.legend(loc=0)\n",
    "    ax.set_xlabel('Degree of Polynomial Fit')\n",
    "    ax.set_ylabel('RMSE')\n",
    "    #ax.set_ylim([0.0, 4.0])\n",
    "    fig.set_facecolor('white')\n",
    "    plt.show()"
   ]
  },
  {
   "cell_type": "raw",
   "metadata": {
    "collapsed": true
   },
   "source": [
    "def k_fold_cross_val_poly(folds, degrees, X, y):\n",
    "    #fonction qui calcule les scores RMSE pour K-fold et d degré polynomial\n",
    "    n = len(X)\n",
    "    kf = KFold(n, n_folds=folds,random_state=42)\n",
    "    #creation du dico qui retient les scores RMSE\n",
    "    kf_dict = dict([(\"fold_%s\" % i,[]) for i in range(1, folds+1)])\n",
    "    fold = 0\n",
    "    for train_index, test_index in kf:\n",
    "        fold += 1\n",
    "        #print \"Fold: %s\" % fold\n",
    "        X_train, X_test = X.ix[train_index], X.ix[test_index]\n",
    "        y_train, y_test = y.ix[train_index], y.ix[test_index]\n",
    "        # Incrémente le dégré polynomial\n",
    "        for d in range(1, degrees+1):\n",
    "            #print \"Degree: %s\" % d\n",
    "            # Model & fit\n",
    "            polynomial_features = PolynomialFeatures(\n",
    "                degree=d, include_bias=False\n",
    "            )\n",
    "            linear_regression = LinearRegression()\n",
    "            model = Pipeline([\n",
    "                (\"polynomial_features\", polynomial_features),\n",
    "                (\"linear_regression\", linear_regression)\n",
    "            ])\n",
    "            model.fit(X_train, y_train)\n",
    "            # Calcul du RMSE\n",
    "            y_pred = model.predict(X_test)\n",
    "            test_rmse = RMSE(y_test, y_pred)\n",
    "            #print test_rmse\n",
    "            kf_dict[\"fold_%s\" % fold].append(test_rmse) #stockage dans le dict\n",
    "        # Transform en np.array pour le moyenner\n",
    "        kf_dict[\"fold_%s\" % fold] = np.array(kf_dict[\"fold_%s\" % fold])\n",
    "    #Dans le dico\n",
    "    kf_dict[\"avg\"] = np.zeros(degrees)\n",
    "    for i in range(1, folds+1):\n",
    "        kf_dict[\"avg\"] += kf_dict[\"fold_%s\" % i]\n",
    "    kf_dict[\"avg\"] /= float(folds)\n",
    "    return kf_dict\n",
    "\n",
    "def plot_test_error_curves_kf(kf_dict, folds, degrees):\n",
    "    #fonction qui permet de visualiser les résultats calculés par la fonction ci-dessus\n",
    "    fig, ax = plt.subplots(figsize=(10, 10))\n",
    "    ds = range(1, degrees+1)\n",
    "    for i in range(1, folds+1):\n",
    "        ax.plot(ds, kf_dict[\"fold_%s\" % i], lw=2, label='Test RMSE - Fold %s' % i)\n",
    "    ax.plot(ds, kf_dict[\"avg\"], linestyle='--', color=\"black\", lw=3, label='Avg Test RMSE')\n",
    "    ax.legend(loc=0)\n",
    "    ax.set_xlabel('Degree of Polynomial Fit')\n",
    "    ax.set_ylabel('RMSE')\n",
    "    #ax.set_ylim([0.0, 4.0])\n",
    "    fig.set_facecolor('white')\n",
    "    plt.show()"
   ]
  },
  {
   "cell_type": "code",
   "execution_count": 24,
   "metadata": {
    "scrolled": false
   },
   "outputs": [
    {
     "name": "stderr",
     "output_type": "stream",
     "text": [
      "/home/paul/anaconda2/lib/python2.7/site-packages/ipykernel_launcher.py:16: DeprecationWarning: \n",
      ".ix is deprecated. Please use\n",
      ".loc for label based indexing or\n",
      ".iloc for positional indexing\n",
      "\n",
      "See the documentation here:\n",
      "http://pandas.pydata.org/pandas-docs/stable/indexing.html#ix-indexer-is-deprecated\n",
      "  app.launch_new_instance()\n",
      "/home/paul/anaconda2/lib/python2.7/site-packages/ipykernel_launcher.py:17: DeprecationWarning: \n",
      ".ix is deprecated. Please use\n",
      ".loc for label based indexing or\n",
      ".iloc for positional indexing\n",
      "\n",
      "See the documentation here:\n",
      "http://pandas.pydata.org/pandas-docs/stable/indexing.html#ix-indexer-is-deprecated\n"
     ]
    },
    {
     "data": {
      "image/png": "[encoded data removed]",
      "text/plain": [
       "<matplotlib.figure.Figure at 0x7fe486d92790>"
      ]
     },
     "metadata": {},
     "output_type": "display_data"
    }
   ],
   "source": [
    "# Plot la courbe d'erreur k-fold CV set\n",
    "folds = 5\n",
    "degrees = 3\n",
    "kf_dict = k_fold_cross_val_poly(folds, degrees, X, y)\n",
    "plot_test_error_curves_kf(kf_dict, folds, degrees)"
   ]
  },
  {
   "cell_type": "code",
   "execution_count": null,
   "metadata": {
    "scrolled": true
   },
   "outputs": [
    {
     "name": "stdout",
     "output_type": "stream",
     "text": [
      "Le régresseur polynomial atteint une valeur moyenne minimale RMSE : 81.95185851071581 pour un degré 1\n"
     ]
    }
   ],
   "source": [
    "print('Le régresseur polynomial atteint une valeur moyenne minimale RMSE : %s pour un degré %s'\n",
    "      %(kf_dict['avg'].min(),kf_dict['avg'].argmin()+1))"
   ]
  },
  {
   "cell_type": "markdown",
   "metadata": {},
   "source": [
    "- > *** Intreprétation: on décide de choisir un degré polynomial de 2. ***"
   ]
  },
  {
   "cell_type": "code",
   "execution_count": null,
   "metadata": {
    "collapsed": true
   },
   "outputs": [],
   "source": [
    "# Sélection du model:\n",
    "\n",
    "lr = LinearRegression() #init\n",
    "polynomial_features = PolynomialFeatures(degree=2, include_bias=False)\n",
    "X_ = polynomial_features.fit_transform(X[keep])\n",
    "X_ = pd.DataFrame(X_)\n",
    "X_ = pd.concat([X_,X[keep_]],axis=1)\n",
    "\n",
    "X0_train_,X0_test_,y0_train_,y0_test_ = train_test_split(X_,\\\n",
    "                                                y,\\\n",
    "                                                train_size=26000,\\\n",
    "                                                random_state=42)\n",
    "\n",
    "# Création du pipeline\n",
    "pipe = Pipeline([\n",
    "        (\"linear_regression\", lr)])#(\"polynomial_features\", polynomial_features)\n",
    "grid = dict(linear_regression__normalize=[False,True]) #espace de paramètre de la régression\n",
    "                                                        # choix sur la normalisation\n",
    "model = GridSearchCV(pipe,param_grid=grid,cv=8)\n",
    "model.fit(X0_train_, y0_train_)\n",
    "#predict\n",
    "y_lr = model.predict(X0_test_)"
   ]
  },
  {
   "cell_type": "code",
   "execution_count": null,
   "metadata": {
    "collapsed": true
   },
   "outputs": [],
   "source": [
    "#Evaluation du modèle :\n",
    "print(\"L'erreur type (RMSE) est de %s\") %(RMSE(y0_test_, y_lr))\n",
    "print(\"La moyenne absolue d'erreur est de %s.\") %(mae_error(y0_test_.values, y_lr))\n",
    "print(\"Meilleur model utilisant %s.\" % ( model.best_params_))\n",
    "print('Variance score: %.2f' % r2_score(y0_test_.values, y_lr))"
   ]
  },
  {
   "cell_type": "markdown",
   "metadata": {},
   "source": [
    "- ## A-bis. Méthode Linéaire Lasso  \n",
    "    - Approche polynomiale et cross validation"
   ]
  },
  {
   "cell_type": "code",
   "execution_count": null,
   "metadata": {
    "collapsed": true
   },
   "outputs": [],
   "source": [
    "from sklearn.linear_model import LassoCV\n",
    "from sklearn.linear_model import Lasso\n",
    "from sklearn.model_selection import KFold\n",
    "from sklearn.model_selection import cross_val_score"
   ]
  },
  {
   "cell_type": "raw",
   "metadata": {},
   "source": [
    "lasso = Lasso(random_state=42)\n",
    "alphas = np.logspace(-0.1,1)\n",
    "\n",
    "scores = list()\n",
    "scores_std = list()\n",
    "\n",
    "n_folds = 3\n",
    "\n",
    "for alpha in alphas:\n",
    "    lasso.alpha = alpha\n",
    "    this_scores = cross_val_score(lasso, X_, y, cv=n_folds, n_jobs=1)\n",
    "    scores.append(np.mean(this_scores))\n",
    "    scores_std.append(np.std(this_scores))\n",
    "\n",
    "scores, scores_std = np.array(scores), np.array(scores_std)\n",
    "\n",
    "plt.figure().set_size_inches(8, 6)\n",
    "plt.semilogx(alphas, scores)\n",
    "\n",
    "# plot error lines showing +/- std. errors of the scores\n",
    "std_error = scores_std / np.sqrt(n_folds)\n",
    "\n",
    "plt.semilogx(alphas, scores + std_error, 'b--')\n",
    "plt.semilogx(alphas, scores - std_error, 'b--')\n",
    "\n",
    "# alpha=0.2 controls the translucency of the fill color\n",
    "plt.fill_between(alphas, scores + std_error, scores - std_error, alpha=0.2)\n",
    "\n",
    "plt.ylabel('CV score +/- std error')\n",
    "plt.xlabel('alpha')\n",
    "plt.axhline(np.max(scores), linestyle='--', color='.5')\n",
    "plt.xlim([alphas[0], alphas[-1]])"
   ]
  },
  {
   "cell_type": "raw",
   "metadata": {
    "collapsed": true
   },
   "source": [
    "#alphas qui minimise la RMSE:\n",
    "alpha=alphas[rmse.argmin()]\n",
    "#fit avec cet alpha"
   ]
  },
  {
   "cell_type": "raw",
   "metadata": {
    "collapsed": true
   },
   "source": [
    "lasso = Lasso(random_state=42)\n",
    "alphas = np.logspace(-4, -0.5, 30)\n",
    "\n",
    "#feature polynomial d'ordre 2\n",
    "#polynomial_features = PolynomialFeatures(degree=2, include_bias=False)\n",
    "#X0_train_ = polynomial_features.fit_transform(X0_train)\n",
    "#X0_test_ = polynomial_features.fit_transform(X0_test)\n",
    "\n",
    "#list\n",
    "rmse = list()\n",
    "MAPE = list()\n",
    "\n",
    "n_folds = 3\n",
    "\n",
    "for alpha in alphas:\n",
    "    lasso.alpha = alpha\n",
    "    lasso.fit(X0_train_,y0_train)\n",
    "    y_lr=lasso.predict(X0_test_)\n",
    "    rmse.append(RMSE(y0_test, y_lr))\n",
    "    MAPE.append(mae_error(y0_test.values, y_lr))\n",
    "rmse, MAPE = np.array(rmse), np.array(MAPE)\n",
    "\n",
    "plt.figure().set_size_inches(8, 6)\n",
    "\n",
    "\n",
    "# plot error lines showing +/- std. errors of the scores\n",
    "\n",
    "plt.semilogx(alphas, rmse)\n",
    "#plt.semilogx(alphas, MAPE)\n",
    "\n",
    "# alpha=0.2 controls the translucency of the fill color\n",
    "\n",
    "plt.ylabel('RMSE')\n",
    "plt.xlabel('alpha')\n",
    "plt.xlim([alphas[0], alphas[-1]])\n",
    "plt.title('RMSE fonction de alpha')"
   ]
  },
  {
   "cell_type": "raw",
   "metadata": {
    "collapsed": true
   },
   "source": [
    "#Evaluation du modèle :\n",
    "print(\"L'erreur type (RMSE) est de %s\") %((rmse.min()))\n",
    "print(\"La moyenne absolue d'erreur est de %s\") %(MAPE[rmse.argmin()])\n",
    "print('Variance score: %.2f' % r2_score(y0_test.values, y_lr))\n",
    "print(\"Meilleur model utilisant alpha = %s.\" % (alpha))"
   ]
  },
  {
   "cell_type": "markdown",
   "metadata": {},
   "source": [
    "- > ***Interprétation : on obtient des résultats remarquables avec la régression lasso sur donnée polynomiale d'ordre 2.***"
   ]
  },
  {
   "cell_type": "markdown",
   "metadata": {},
   "source": [
    "- ## B. Méthode par plus proche voisin"
   ]
  },
  {
   "cell_type": "code",
   "execution_count": null,
   "metadata": {
    "collapsed": true
   },
   "outputs": [],
   "source": [
    "from sklearn.neighbors import KNeighborsRegressor\n",
    "knn=KNeighborsRegressor()\n",
    "\n",
    "n_neighbors=[2,3,5,7,12,15,20,30,40]\n",
    "leaf_size=[7,8,10,20]\n",
    "param_grid = dict(n_neighbors=n_neighbors, leaf_size=leaf_size)\n",
    "\n",
    "model = GridSearchCV(knn, param_grid, n_jobs=-1, cv=5,scoring='neg_mean_squared_error') #neg_mean_squared_error pour\n",
    "                                                                                        #sklearn > 0.18\n",
    "model.fit(X0_train, y0_train)\n",
    "10\n",
    "#Prédiction:\n",
    "y_knn = model.predict(X0_test)\n",
    "print(\"L'erreur type (RMSE) est de %s\") %(RMSE(y0_test, y_knn))\n",
    "print(\"La moyenne absolue d'erreur est de %s \") %(mae_error(y0_test.values, y_knn))\n",
    "print(\"Meilleur model utilisant %s.\" % ( model.best_params_))\n",
    "print('Variance score: %.2f' % r2_score(y0_test.values, y_knn))"
   ]
  },
  {
   "cell_type": "markdown",
   "metadata": {},
   "source": [
    "- > ***Interprétations : cette méthode est à ignorer...***"
   ]
  },
  {
   "cell_type": "markdown",
   "metadata": {},
   "source": [
    "- ## C. Méthodes non-linéaires : méthodes ensemblistes  <a name=\"ensemblistes\"></a>\n",
    "\n",
    "***Ici, nous allons faire usage de méthodes non-linéaires d'apprentissage automatique, et nous verrons quelle est la meilleure méthode en termes de performances (notamment en termes de taux d'erreur et de vitesse d'exécution).***"
   ]
  },
  {
   "cell_type": "code",
   "execution_count": null,
   "metadata": {
    "collapsed": true
   },
   "outputs": [],
   "source": [
    "from sklearn.ensemble import RandomForestRegressor, RandomForestRegressor, GradientBoostingRegressor \n",
    "from sklearn.cross_validation import KFold\n",
    "from sklearn.externals import joblib\n",
    "#from xgboost.sklearn import XGBRegressor\n",
    "from sklearn.metrics import mean_squared_error\n",
    "import xgboost as xgb"
   ]
  },
  {
   "cell_type": "markdown",
   "metadata": {},
   "source": [
    "***Commençons par tester la méthode de régression des fôrets aléatoires.***  <a name=\"RF\"></a>"
   ]
  },
  {
   "cell_type": "code",
   "execution_count": null,
   "metadata": {
    "collapsed": true
   },
   "outputs": [],
   "source": [
    "%%time\n",
    "from sklearn.ensemble import RandomForestRegressor\n",
    "rf = RandomForestRegressor(n_estimators=300, max_depth=7, n_jobs=-1, max_features=None,criterion='mse',\n",
    "                               min_samples_split=5,random_state=42)\n",
    "rf.fit(X0_train, y0_train)\n",
    "y_rf = rf.predict(X0_test)\n",
    "print(\"L'erreur type (RMSE) est de %s\") %(RMSE(y0_test, y_rf))\n",
    "print(\"La moyenne absolue d'erreur est de %s\") %(mae_error(y0_test.values, y_rf))\n",
    "print('Variance score: %.2f' % r2_score(y0_test.values, y_rf))"
   ]
  },
  {
   "cell_type": "markdown",
   "metadata": {},
   "source": [
    "- > ***Interprétations : résultats vraiment décevants, on va chercher à tuner un peu le model.***"
   ]
  },
  {
   "cell_type": "markdown",
   "metadata": {},
   "source": [
    "- **GridSearch et Cross Validation**"
   ]
  },
  {
   "cell_type": "code",
   "execution_count": null,
   "metadata": {
    "collapsed": true,
    "scrolled": true
   },
   "outputs": [],
   "source": [
    "%%time\n",
    "rf = RandomForestRegressor(criterion='mae', max_features=None,random_state=42)\n",
    "n_estimators = [100, 150, 200,300,400]\n",
    "max_depth = [2, 4, 6, 8]\n",
    "min_samples_split=[2,4,6,8]\n",
    "param_grid = dict(max_depth=max_depth, n_estimators=n_estimators, min_samples_split=min_samples_split)\n",
    "model = GridSearchCV(rf, param_grid, n_jobs=-1, cv=5,scoring='neg_mean_squared_error') #neg_mean_squared_error pour\n",
    "                                                                                        #sklearn > 0.18\n",
    "model.fit(X0_train, y0_train)\n",
    "y_rf = model.predict(X0_test)\n",
    "print(\"L'erreur type (RMSE) est de %s\") %(RMSE(y0_test, y_rf))\n",
    "print(\"La moyenne absolue d'erreur est de %s\") %(mae_error(y0_test.values, y_rf))\n",
    "print('Variance score: %.2f' % r2_score(y0_test.values, y_lr))"
   ]
  },
  {
   "cell_type": "code",
   "execution_count": null,
   "metadata": {
    "collapsed": true
   },
   "outputs": [],
   "source": [
    "print(\"Meilleur model utilisant %s.\" % ( model.best_params_))"
   ]
  },
  {
   "cell_type": "markdown",
   "metadata": {},
   "source": [
    "- > ***Nous obtenons une MAPE d'environ 53 % et un RMSE de 3.4. C'est légèrement mieux, mais encore une fois cela reste horrible.***"
   ]
  },
  {
   "cell_type": "markdown",
   "metadata": {},
   "source": [
    "***Cette fois, testons toujours la méthode de régression extra-trees, mais cette fois, avec un nombre d'estimateurs plus important (porté à 300), et une profondeur maximale bien plus réduite (profondeur maximale de 7).***"
   ]
  },
  {
   "cell_type": "code",
   "execution_count": null,
   "metadata": {
    "collapsed": true
   },
   "outputs": [],
   "source": [
    "%%time\n",
    "from sklearn.ensemble import ExtraTreesRegressor\n",
    "\n",
    "et = ExtraTreesRegressor(n_estimators=300, criterion='mae',max_depth=7,n_jobs=-1,\n",
    "                         min_samples_split=5,max_features=None)\n",
    "et.fit(X0_train, y0_train)\n",
    "y_et = et.predict(X0_test)\n",
    "print(\"L'erreur type (RMSE) est de %s\") %(RMSE(y0_test, y_et))\n",
    "print(\"La moyenne absolue d'erreur est de %s\") %(mae_error(y0_test.values, y_et))\n",
    "print('Variance score: %.2f' % r2_score(y0_test.values, y_et))"
   ]
  },
  {
   "cell_type": "markdown",
   "metadata": {},
   "source": [
    "- **GridSearch et Cross Validation**"
   ]
  },
  {
   "cell_type": "raw",
   "metadata": {},
   "source": [
    "%%time\n",
    "et = ExtraTreesRegressor(criterion='mse',max_features=None)\n",
    "n_estimators = [100, 150, 200,300,400]\n",
    "max_depth = [4, 6, 8,10]\n",
    "min_samples_split=[2,4,6,8]\n",
    "param_grid = dict(max_depth=max_depth, n_estimators=n_estimators, min_samples_split=min_samples_split)\n",
    "model = GridSearchCV(et, param_grid, n_jobs=-1, cv=10,scoring='neg_mean_squared_error')\n",
    "model.fit(X0_train, y0_train)\n",
    "y_et = model.predict(X0_test)\n",
    "print(\"L'erreur type (RMSE) est de %s\") %(RMSE(y0_test, y_et))\n",
    "print(\"La moyenne absolue d'erreur est de %s\") %(mae_error(y0_test.values, y_et))"
   ]
  },
  {
   "cell_type": "markdown",
   "metadata": {},
   "source": [
    "print(\"Meilleur model utilisant %s.\" % ( model.best_params_))"
   ]
  },
  {
   "cell_type": "markdown",
   "metadata": {},
   "source": [
    "***Pour le XG Boost: ***<a name=\"XGB\"></a>"
   ]
  },
  {
   "cell_type": "code",
   "execution_count": null,
   "metadata": {
    "collapsed": true
   },
   "outputs": [],
   "source": [
    "%%time\n",
    "xg = xgb.XGBRegressor(max_depth=3, n_estimators=300, learning_rate=0.05).fit(X0_train, y0_train)\n",
    "y_xgb = xg.predict(X0_test)\n",
    "print(\"L'erreur type (RMSE) est de %s\") %(RMSE(y0_test, y_xgb))\n",
    "print(\"La moyenne absolue d'erreur est de %s\") %(mae_error(y0_test.values, y_xgb))\n",
    "print('Variance score: %.2f' % r2_score(y0_test.values, y_xgb))"
   ]
  },
  {
   "cell_type": "code",
   "execution_count": null,
   "metadata": {
    "collapsed": true
   },
   "outputs": [],
   "source": [
    "%%time\n",
    "xg = xgb.XGBRegressor(seed=42,nthread=-1)\n",
    "n_estimators = [100, 150, 200,300,400]\n",
    "max_depth = [2, 4, 6, 8]\n",
    "param_grid = dict(max_depth=max_depth, n_estimators=n_estimators)\n",
    "model = GridSearchCV(xg, param_grid, cv=5,scoring='neg_mean_squared_error') # n_jobs=-1,\n",
    "model.fit(X0_train, y0_train)\n",
    "y_xgb = model.predict(X0_test)\n",
    "print(\"L'erreur type (RMSE) est de %s\") %(RMSE(y0_test, y_xgb))\n",
    "print(\"La moyenne absolue d'erreur est de %s\") %(mae_error(y0_test.values, y_xgb))\n",
    "print('Variance score: %.2f' % r2_score(y0_test.values, y_xgb))"
   ]
  },
  {
   "cell_type": "code",
   "execution_count": null,
   "metadata": {
    "collapsed": true
   },
   "outputs": [],
   "source": [
    "means = model.cv_results_['mean_test_score']\n",
    "stds = model.cv_results_['std_test_score']\n",
    "params = model.cv_results_['params']\n",
    "#for mean, stdev, param in zip(means, stds, params):\n",
    "#    print(\"%f (%f) with: %r\" % (mean, stdev, param))\n",
    "# plot results\n",
    "plt.figure(figsize = (12,12))\n",
    "scores = np.array(means).reshape(len(max_depth), len(n_estimators))\n",
    "for i, value in enumerate(max_depth):\n",
    "    plt.plot(n_estimators, scores[i], label='depth: ' + str(value))\n",
    "plt.legend()\n",
    "plt.xlabel('n_estimators')\n",
    "plt.ylabel('neg_mean_squared_error')\n",
    "plt.title(\"Profondeur v.s. Nombre d'estimateurs\")"
   ]
  },
  {
   "cell_type": "code",
   "execution_count": null,
   "metadata": {
    "collapsed": true
   },
   "outputs": [],
   "source": [
    "%%time\n",
    "xg = xgb.XGBRegressor(seed=42,nthread=-1)\n",
    "n_estimators = [100, 150, 200,300,400]\n",
    "max_depth = [2, 4, 6, 8]\n",
    "learning_rate=[0.05,0.075]\n",
    "param_grid = dict(max_depth=max_depth, n_estimators=n_estimators,learning_rate=learning_rate)\n",
    "model = GridSearchCV(xg, param_grid, cv=5,scoring='neg_mean_squared_error') # n_jobs=-1,\n",
    "model.fit(X0_train, y0_train)\n",
    "y_xgb = model.predict(X0_test)\n",
    "print(\"L'erreur type (RMSE) est de %s\") %(RMSE(y0_test, y_xgb))\n",
    "print(\"La moyenne absolue d'erreur est de %s\") %(mae_error(y0_test.values, y_xgb))\n",
    "print('Variance score: %.2f' % r2_score(y0_test.values, y_xgb))"
   ]
  },
  {
   "cell_type": "code",
   "execution_count": null,
   "metadata": {
    "collapsed": true
   },
   "outputs": [],
   "source": [
    "print(\"Meilleur model utilisant %s.\" % ( model.best_params_))"
   ]
  },
  {
   "cell_type": "markdown",
   "metadata": {},
   "source": [
    "**Test du XGBoost avec des features polynomiales :**\n",
    "\n",
    "L'intuition voudrait que le fait de dériver des features polynomiales à partir de la donnée brute soit innéficace pour les méthodes de types ensemblistes."
   ]
  },
  {
   "cell_type": "code",
   "execution_count": null,
   "metadata": {
    "collapsed": true
   },
   "outputs": [],
   "source": [
    "%%time\n",
    "xg = xgb.XGBRegressor(seed=42,nthread=-1)\n",
    "\n",
    "#feature polynomial d'ordre 2\n",
    "polynomial_features = PolynomialFeatures(degree=2, include_bias=False)\n",
    "X0_train_ = polynomial_features.fit_transform(X0_train)\n",
    "X0_test_ = polynomial_features.fit_transform(X0_test)\n",
    "\n",
    "#param\n",
    "n_estimators = [100, 150, 200,300,400]\n",
    "max_depth = [2, 4, 6, 8]\n",
    "learning_rate=[0.05,0.075]\n",
    "param_grid = dict(max_depth=max_depth, n_estimators=n_estimators,learning_rate=learning_rate)\n",
    "\n",
    "#GridsearchCV\n",
    "model = GridSearchCV(xg, param_grid, cv=5,scoring='neg_mean_squared_error') # n_jobs=-1,\n",
    "model.fit(X0_train_, y0_train)\n",
    "y_xgb = model.predict(X0_test_)\n",
    "\n",
    "print(\"L'erreur type (RMSE) est de %s\") %(RMSE(y0_test, y_xgb))\n",
    "print(\"La moyenne absolue d'erreur est de %s\") %(mae_error(y0_test.values, y_xgb))\n",
    "print(\"Meilleur model utilisant %s.\" % ( model.best_params_))\n",
    "print('Variance score: %.2f' % r2_score(y0_test.values, y_xgb))"
   ]
  },
  {
   "cell_type": "markdown",
   "metadata": {},
   "source": [
    "- > *** Interprétation : notre intuition s'est révélée être correcte, dériver des features polynomiales n'apportent rien au modèle ensembliste.***"
   ]
  },
  {
   "cell_type": "markdown",
   "metadata": {},
   "source": [
    "# Visualisation de l'arbre de décision"
   ]
  },
  {
   "cell_type": "raw",
   "metadata": {},
   "source": [
    "#To store a visual representation of the trees\n",
    "import graphviz\n",
    "\n",
    "xg = xgb.XGBRegressor(max_depth=4, n_estimators=400, learning_rate=0.05).fit(X0_train, y0_train)\n",
    "\n",
    "if not os.path.exists('graph/'):\n",
    "    os.makedirs('graph/')\n",
    "a=xgb.to_graphviz(xg, num_trees=2)\n",
    "#a.engine = 'circo'\n",
    "a.format = 'png'\n",
    "a.render('graph/graph.png', view=False)"
   ]
  },
  {
   "cell_type": "markdown",
   "metadata": {},
   "source": [
    "# III. Evaluation des modèles retenus  <a name=\"interprétation\"></a>"
   ]
  },
  {
   "cell_type": "markdown",
   "metadata": {},
   "source": [
    "** On étudie les deux modèles aux plus grande performances**"
   ]
  },
  {
   "cell_type": "markdown",
   "metadata": {},
   "source": [
    "- - ### Modèle Linéaire simple :"
   ]
  },
  {
   "cell_type": "code",
   "execution_count": null,
   "metadata": {
    "collapsed": true
   },
   "outputs": [],
   "source": [
    "#interprétations des coéfficients\n",
    "def pretty_print_linear(coefs, names = None, sort = False,filter_=True,threshold=0.005):\n",
    "    if names == None:\n",
    "        names = [\"X%s\" % x for x in range(len(coefs))]\n",
    "    lst = zip(coefs, names)\n",
    "    if sort:\n",
    "        lst = sorted(lst,  key = lambda x:-np.abs(x[0]))\n",
    "    \n",
    "    df=pd.DataFrame()\n",
    "    df['coef'],df['var'] = map(list, zip(*lst))\n",
    "    if filter_:\n",
    "        df = df[abs(df['coef'])>threshold]\n",
    "        df.reset_index(inplace=True,drop=True)\n",
    "    return df\n",
    " \n"
   ]
  },
  {
   "cell_type": "code",
   "execution_count": null,
   "metadata": {
    "collapsed": true
   },
   "outputs": [],
   "source": [
    "#Reprise du modèle linéaire\n",
    "lr = LinearRegression() #init\n",
    "polynomial_features = PolynomialFeatures(degree=2, include_bias=False)\n",
    "X_ = polynomial_features.fit_transform(X)\n",
    "#X0_test_ = polynomial_features.fit_transform(X0_test)\n",
    "\n",
    "#grid = dict(linear_regression__normalize=[False,True]) #espace de paramètre de la régression\n",
    "                                                        # choix sur la normalisation\n",
    "#model = GridSearchCV(pipe,param_grid=grid,cv=8)\n",
    "lr.fit(X_, y)"
   ]
  },
  {
   "cell_type": "code",
   "execution_count": null,
   "metadata": {
    "collapsed": true,
    "scrolled": true
   },
   "outputs": [],
   "source": [
    "#Reconstruire le tableau avec le nom des variables\n",
    "target_feature_names = ['x'.join(['{}^{}'.format(pair[0],pair[1]) for pair in tuple if pair[1]!=0]) for tuple in [zip(X.columns,p) for p in polynomial_features.powers_]]\n",
    "output_df = pd.DataFrame(X_, columns = target_feature_names)"
   ]
  },
  {
   "cell_type": "code",
   "execution_count": null,
   "metadata": {
    "collapsed": true,
    "scrolled": true
   },
   "outputs": [],
   "source": [
    "print \"Linear model:\"\n",
    "pretty_print_linear(lr.coef_,names = list(output_df.columns),sort=True,threshold=0.01)"
   ]
  },
  {
   "cell_type": "code",
   "execution_count": null,
   "metadata": {
    "collapsed": true
   },
   "outputs": [],
   "source": [
    "importance_frame = pretty_print_linear(lr.coef_,names = list(output_df.columns),sort=True,threshold=0.01)\n",
    "#importance_frame.sort_values(by = 'Importance', inplace = True)\n",
    "importance_frame[0:50].plot(kind = 'barh', x = 'var', figsize = (12,12), color = 'orange')"
   ]
  },
  {
   "cell_type": "markdown",
   "metadata": {},
   "source": [
    "- > ***La lecture des coefficients est peu satisfante***"
   ]
  },
  {
   "cell_type": "markdown",
   "metadata": {},
   "source": [
    "- - ### Modèle linéaire Lasso"
   ]
  },
  {
   "cell_type": "code",
   "execution_count": null,
   "metadata": {
    "collapsed": true
   },
   "outputs": [],
   "source": [
    "lasso = Lasso(random_state=42)\n",
    "alphas = np.logspace(-4, -0.5, 30)\n",
    "\n",
    "rmse = list()\n",
    "MAPE = list()\n",
    "lr = list()\n",
    "\n",
    "n_folds = 3\n",
    "\n",
    "for alpha in alphas:\n",
    "    lasso.alpha = alpha\n",
    "    lasso.fit(X0_train_,y0_train)\n",
    "    lr.append(lasso)\n",
    "    y_lr=lasso.predict(X0_test_)\n",
    "    rmse.append(RMSE(y0_test, y_lr))\n",
    "    MAPE.append(mape_error(y0_test, y_lr))\n",
    "rmse, MAPE = np.array(rmse), np.array(MAPE)"
   ]
  },
  {
   "cell_type": "code",
   "execution_count": null,
   "metadata": {
    "collapsed": true
   },
   "outputs": [],
   "source": [
    "#alphas qui minimise la RMSE:\n",
    "alpha=alphas[rmse.argmin()]\n",
    "#Evaluation du modèle :\n",
    "best_regressor = lr[rmse.argmin()]\n",
    "\n",
    "importance_frame = pretty_print_linear(best_regressor.coef_,names = list(output_df.columns),sort=True,threshold=0.0006)\n",
    "#importance_frame.sort_values(by = 'Importance', inplace = True)\n",
    "importance_frame[0:50].plot(kind = 'barh', x = 'var', figsize = (12,12), color = 'orange')"
   ]
  },
  {
   "cell_type": "markdown",
   "metadata": {},
   "source": [
    "- > ***La lecture des coefficients est bien plus satisfaisante avec la régression Lasso, les interprétations à valeurs métiers ont ici un sens.***"
   ]
  },
  {
   "cell_type": "markdown",
   "metadata": {},
   "source": [
    "- - ### Modèle XGBoost :"
   ]
  },
  {
   "cell_type": "markdown",
   "metadata": {},
   "source": [
    "- ## Plot des features selon leur importance\n",
    "\n",
    "***Dans cette étape d'évaluation du modèle, nous allons représenter sous la forme d'un diagramme horizontal les variables qui contribuent le plus au modèle, à l'aide de la méthode XGBoost.***"
   ]
  },
  {
   "cell_type": "code",
   "execution_count": null,
   "metadata": {
    "collapsed": true
   },
   "outputs": [],
   "source": [
    "%%time\n",
    "dtrain = xgb.DMatrix(X0_train,label=y0_train)\n",
    "dtest = xgb.DMatrix(X0_test)\n",
    "\n",
    "params = {'booster':'gbtree', 'eta':0.2, 'max_depth':4, 'subsample':0.8, 'n_estimators':400,\n",
    "                 'silent':1, 'objective':'reg:linear', \"seed\":42, 'nhtread':12,\n",
    "                 'eval_metric':'rmse','colsample_bytree':0.7}\n",
    "    \n",
    "xg = xgb.train(params, dtrain, 400)\n",
    "y_xg = xg.predict(dtest)\n",
    "print(\"L'erreur type (RMSE) est de %s\") %(RMSE(y0_test, y_xg))\n",
    "print(\"La moyenne absolue de pourcentage d'erreur est de %s %%\") %(mape_error(y0_test, y_xg))"
   ]
  },
  {
   "cell_type": "code",
   "execution_count": null,
   "metadata": {
    "collapsed": true
   },
   "outputs": [],
   "source": [
    "importances = xg.get_score()\n",
    "importance_frame = pd.DataFrame({'Importance': list(importances.values()),'Feature': list(importances.keys())})\n",
    "importance_frame.sort_values(by = 'Importance', inplace = True)\n",
    "importance_frame[0:75].plot(kind = 'barh', x = 'Feature', figsize = (12,12), color = 'orange')"
   ]
  },
  {
   "cell_type": "markdown",
   "metadata": {},
   "source": [
    "# IV. Soumission des résultats  <a name=\"submit\"></a>"
   ]
  },
  {
   "cell_type": "code",
   "execution_count": null,
   "metadata": {
    "collapsed": true,
    "scrolled": true
   },
   "outputs": [],
   "source": [
    "path='../models/Approche Naive/'"
   ]
  }
 ],
 "metadata": {
  "anaconda-cloud": {},
  "kernelspec": {
   "display_name": "Python 2",
   "language": "python",
   "name": "python2"
  },
  "language_info": {
   "codemirror_mode": {
    "name": "ipython",
    "version": 2
   },
   "file_extension": ".py",
   "mimetype": "text/x-python",
   "name": "python",
   "nbconvert_exporter": "python",
   "pygments_lexer": "ipython2",
   "version": "2.7.13"
  }
 },
 "nbformat": 4,
 "nbformat_minor": 1
}
